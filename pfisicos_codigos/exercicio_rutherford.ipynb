{
 "cells": [
  {
   "cell_type": "markdown",
   "id": "f40e1a28",
   "metadata": {},
   "source": [
    "## Webminicursos SBF\n",
    "# Python para Físicos - Setembro/2023\n",
    "Andre Nepomuceno - UFF"
   ]
  },
  {
   "cell_type": "markdown",
   "id": "dee1f76f",
   "metadata": {},
   "source": [
    "**Exercício: Espalhamento de Rutherford**"
   ]
  },
  {
   "cell_type": "code",
   "execution_count": 6,
   "id": "290ebdd0",
   "metadata": {},
   "outputs": [],
   "source": [
    "import numpy as np\n",
    "import scipy.constants as pc"
   ]
  },
  {
   "cell_type": "code",
   "execution_count": 7,
   "id": "e1d26725",
   "metadata": {},
   "outputs": [],
   "source": [
    "#Contantes\n",
    "a0 = pc.physical_constants['Bohr radius'][0]\n",
    "ep0 = pc.physical_constants['vacuum electric permittivity'][0]\n",
    "e= pc.physical_constants['elementary charge'][0]\n",
    "Z = 79\n",
    "E = 7.7e6*e"
   ]
  },
  {
   "cell_type": "code",
   "execution_count": 20,
   "id": "67c18bef",
   "metadata": {},
   "outputs": [
    {
     "data": {
      "text/plain": [
       "5.29177210903e-11"
      ]
     },
     "execution_count": 20,
     "metadata": {},
     "output_type": "execute_result"
    }
   ],
   "source": [
    "a0 = pc.physical_constants['Bohr radius'][0]\n",
    "a0"
   ]
  },
  {
   "cell_type": "code",
   "execution_count": 9,
   "id": "a77a2b0c",
   "metadata": {},
   "outputs": [],
   "source": [
    "bcut = Z*e**2/(2*np.pi*ep0*E)"
   ]
  },
  {
   "cell_type": "code",
   "execution_count": 11,
   "id": "b9fe2fe7",
   "metadata": {},
   "outputs": [],
   "source": [
    "rng = np.random.default_rng()"
   ]
  },
  {
   "cell_type": "code",
   "execution_count": 16,
   "id": "4160dd87",
   "metadata": {},
   "outputs": [],
   "source": [
    "N = 1000000\n",
    "sigma = a0/100.\n",
    "x = rng.normal(0,sigma,N)\n",
    "y = rng.normal(0,sigma,N)\n",
    "b = np.sqrt(x**2 + y**2)"
   ]
  },
  {
   "cell_type": "code",
   "execution_count": 17,
   "id": "9ccecebc",
   "metadata": {},
   "outputs": [
    {
     "name": "stdout",
     "output_type": "stream",
     "text": [
      "Numero de particulas refletidas: 1586\n"
     ]
    }
   ],
   "source": [
    "nparticulas = (b < bcut).sum()\n",
    "print(f'Numero de particulas refletidas: {nparticulas}')"
   ]
  }
 ],
 "metadata": {
  "kernelspec": {
   "display_name": "Python 3",
   "language": "python",
   "name": "python3"
  },
  "language_info": {
   "codemirror_mode": {
    "name": "ipython",
    "version": 3
   },
   "file_extension": ".py",
   "mimetype": "text/x-python",
   "name": "python",
   "nbconvert_exporter": "python",
   "pygments_lexer": "ipython3",
   "version": "3.9.5"
  }
 },
 "nbformat": 4,
 "nbformat_minor": 5
}
